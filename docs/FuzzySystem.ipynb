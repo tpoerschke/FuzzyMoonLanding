{
 "cells": [
  {
   "cell_type": "markdown",
   "metadata": {},
   "source": [
    "# Dokumentation des Fuzzy-Systems\n",
    "\n",
    "Das Fuzzy-System besteht aus drei Teilen: __Fuzzy-Mengen__, __Aggregator__, __Defuzzy__."
   ]
  },
  {
   "cell_type": "code",
   "execution_count": 1,
   "metadata": {},
   "outputs": [],
   "source": [
    "import sys, os\n",
    "sys.path.append(os.path.dirname(os.getcwd()))"
   ]
  },
  {
   "cell_type": "code",
   "execution_count": 2,
   "metadata": {},
   "outputs": [],
   "source": [
    "import fuzzy\n",
    "import matplotlib.pyplot as plt"
   ]
  },
  {
   "cell_type": "markdown",
   "metadata": {},
   "source": [
    "## Fuzzy-Mengen\n",
    "\n",
    "Das System kennt drei Typen von Fuzzy-Mengen (M1, M2, M3). Die Mengen werden durch je zwei Parameter (x1, x2) beschrieben, welche bei der Insanziierung festgelegt werden müssen. Wichtig ist, dass die Anzahl an Eingabemengen der Anzahl an Ausgabemengen entsprechen muss. "
   ]
  },
  {
   "cell_type": "markdown",
   "metadata": {},
   "source": [
    "![Fuzzy-Mengen](FuzzySets.png)"
   ]
  },
  {
   "cell_type": "markdown",
   "metadata": {},
   "source": [
    "Beispielweise könnte eine Zusammenstellung an Fuzzy-Mengen folgendermaßen aussehen:"
   ]
  },
  {
   "cell_type": "code",
   "execution_count": 3,
   "metadata": {},
   "outputs": [],
   "source": [
    "m1 = fuzzy.M1(800, 1400) # Geringe Höhe\n",
    "m2 = fuzzy.M2(900, 2000) # Mittlere Höhe\n",
    "m3 = fuzzy.M3(1400, 2000) # Große Höhe\n",
    "input_sets = (m1, m2, m3)\n",
    "a1 = fuzzy.M1(12, 65) # Viel Bremskraft\n",
    "a2 = fuzzy.M2(30, 90) # Mittlere Bremskraft\n",
    "a3 = fuzzy.M3(60, 70) # Wenig Bremskraft\n",
    "output_sets = (a1, a2, a3)"
   ]
  },
  {
   "cell_type": "markdown",
   "metadata": {},
   "source": [
    "Anzumerken ist an dieser Stelle, dass der Eingabemenge `m1` die Ausgabemenge `a1` zugordnet wird während der Aggregation (s.u.)."
   ]
  },
  {
   "cell_type": "markdown",
   "metadata": {},
   "source": [
    "## Aggregation\n",
    "\n",
    "Der Aggregator erstellt die geltende Ausgabefunktion, auf die im weiteren das Schwerpunktverfahren (o.ä.) angewendet werden kann."
   ]
  },
  {
   "cell_type": "code",
   "execution_count": 17,
   "metadata": {},
   "outputs": [],
   "source": [
    "agg = fuzzy.Aggregator(input_sets, output_sets, output_upper_bound=100)"
   ]
  },
  {
   "cell_type": "markdown",
   "metadata": {},
   "source": [
    "Im Folgenden ist die aggregierte Funktion für die Flughöhe 1200 der Rakete dargestellt:"
   ]
  },
  {
   "cell_type": "code",
   "execution_count": 9,
   "metadata": {},
   "outputs": [
    {
     "data": {
      "text/plain": [
       "[<matplotlib.lines.Line2D at 0x7fc846aa9d60>]"
      ]
     },
     "execution_count": 9,
     "metadata": {},
     "output_type": "execute_result"
    },
    {
     "data": {
      "image/png": "[encoded data removed]",
      "text/plain": [
       "<Figure size 432x288 with 1 Axes>"
      ]
     },
     "metadata": {
      "needs_background": "light"
     },
     "output_type": "display_data"
    }
   ],
   "source": [
    "(x, y), _ = agg.aggregate(1200)\n",
    "plt.plot(x, y)"
   ]
  },
  {
   "cell_type": "markdown",
   "metadata": {},
   "source": [
    "## Defuzzy\n",
    "\n",
    "Zur Defuzzyfizierung ist das Schwerpunktverfahren implementiert (s. Folie 148 zur Vorlesung)."
   ]
  },
  {
   "cell_type": "code",
   "execution_count": 16,
   "metadata": {},
   "outputs": [
    {
     "data": {
      "text/plain": [
       "45.839499872416376"
      ]
     },
     "execution_count": 16,
     "metadata": {},
     "output_type": "execute_result"
    }
   ],
   "source": [
    "centroid_x = fuzzy.Defuzzy().centroid(x, y)\n",
    "centroid_x"
   ]
  },
  {
   "cell_type": "markdown",
   "metadata": {},
   "source": [
    "Zur Visualisierung kann nun der Schwerpunkt zusammen mit der Aggregation von oben geplottet werden."
   ]
  },
  {
   "cell_type": "code",
   "execution_count": 21,
   "metadata": {},
   "outputs": [
    {
     "data": {
      "text/plain": [
       "<matplotlib.collections.LineCollection at 0x7fc847c20400>"
      ]
     },
     "execution_count": 21,
     "metadata": {},
     "output_type": "execute_result"
    },
    {
     "data": {
      "image/png": "[encoded data removed]",
      "text/plain": [
       "<Figure size 432x288 with 1 Axes>"
      ]
     },
     "metadata": {
      "needs_background": "light"
     },
     "output_type": "display_data"
    }
   ],
   "source": [
    "plt.plot(x, y)\n",
    "plt.vlines(centroid_x, 0, 1)"
   ]
  }
 ],
 "metadata": {
  "interpreter": {
   "hash": "3d597f4c481aa0f25dceb95d2a0067e73c0966dcbd003d741d821a7208527ecf"
  },
  "kernelspec": {
   "display_name": "Python 3.8.3 64-bit ('base': conda)",
   "name": "python3"
  },
  "language_info": {
   "codemirror_mode": {
    "name": "ipython",
    "version": 3
   },
   "file_extension": ".py",
   "mimetype": "text/x-python",
   "name": "python",
   "nbconvert_exporter": "python",
   "pygments_lexer": "ipython3",
   "version": "3.8.3"
  },
  "orig_nbformat": 4
 },
 "nbformat": 4,
 "nbformat_minor": 2
}
